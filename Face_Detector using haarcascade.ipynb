{
 "cells": [
  {
   "cell_type": "code",
   "execution_count": 2,
   "metadata": {},
   "outputs": [],
   "source": []
  },
  {
   "cell_type": "code",
   "execution_count": 3,
   "metadata": {},
   "outputs": [
    {
     "name": "stdout",
     "output_type": "stream",
     "text": [
      "1\n",
      "2\n",
      "3\n",
      "4\n",
      "5\n",
      "6\n",
      "7\n",
      "8\n",
      "9\n",
      "10\n",
      "11\n",
      "12\n",
      "13\n",
      "14\n"
     ]
    }
   ],
   "source": [
    "##run this code \n",
    "\n",
    "import cv2\n",
    "import numpy as np\n",
    "#read a video stream from camera(frame by frame)\n",
    "cap = cv2.VideoCapture(0)\n",
    "\n",
    "#face detection\n",
    "face_cascade = cv2.CascadeClassifier(\"./haarcascade_frontalface_alt.xml\")\n",
    "\n",
    "skip=0\n",
    "face_data=[]\n",
    "dataset_path='./'\n",
    "\n",
    "\n",
    "while True:\n",
    "    ret,frame = cap.read()\n",
    "    gray_frame=cv2.cvtColor(frame,cv2.COLOR_BGR2GRAY)\n",
    "    \n",
    "    if ret == False:\n",
    "        continue\n",
    "    #detect face and show bounding box    \n",
    "    faces = face_cascade.detectMultiScale(frame,1.3,5)    \n",
    "    #print(faces)\n",
    "    faces=sorted(faces,key=lambda f:f[2]*f[3],reverse=True)\n",
    "    \n",
    "    #pick the last face because it is the largest face areawise\n",
    "    for face in faces[-1:]:\n",
    "        x,y,w,h=face\n",
    "        cv2.rectangle(frame,(x,y),(x+w,y+h),(0,255,255),2)\n",
    "        \n",
    "        #Extract (Crop out the required face) : Region of Interest\n",
    "        offset = 10\n",
    "        face_section = frame[y-offset:y+h+offset,x-offset:x+w+offset]\n",
    "        face_section = cv2.resize(face_section,(100,100))\n",
    "        \n",
    "        skip += 1\n",
    "         #store every 10th face\n",
    "        if skip%10==0:\n",
    "            face_data.append(face_section)\n",
    "            print(len(face_data))\n",
    "        \n",
    "    cv2.imshow(\"frame\",frame)\n",
    "    #cv2.imshow(\"face section\",face_section)\n",
    "   \n",
    "    key_pressed=cv2.waitKey(1) & 0xFF    #converting 32 bit to 8 bit\n",
    "    if key_pressed == ord('q'):          # ord returns ASCII value\n",
    "        break\n",
    "#convert our face list array into a numpy array\n",
    "#face_data=np.array(face_data)\n",
    "#face_data.reshape((face_data.shape[0],-1))\n",
    "#print(face_data.shape)\n",
    "#save this data into file system\n",
    "#np.save(dataset_path+filename+'.npy',face_data)\n",
    "\n",
    "#print(\"data successfully saved\"+dataset_path+filename+'.npy')\n",
    "cap.release()\n",
    "cv2.destroyAllWindows()"
   ]
  }
 ],
 "metadata": {
  "kernelspec": {
   "display_name": "Python 3",
   "language": "python",
   "name": "python3"
  },
  "language_info": {
   "codemirror_mode": {
    "name": "ipython",
    "version": 3
   },
   "file_extension": ".py",
   "mimetype": "text/x-python",
   "name": "python",
   "nbconvert_exporter": "python",
   "pygments_lexer": "ipython3",
   "version": "3.8.5"
  }
 },
 "nbformat": 4,
 "nbformat_minor": 4
}
